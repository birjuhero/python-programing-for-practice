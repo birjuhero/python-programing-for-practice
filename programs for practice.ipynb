{
 "cells": [
  {
   "cell_type": "markdown",
   "metadata": {},
   "source": [
    "# program to check for plaindrome"
   ]
  },
  {
   "cell_type": "code",
   "execution_count": 4,
   "metadata": {},
   "outputs": [
    {
     "name": "stdout",
     "output_type": "stream",
     "text": [
      "abcddcba\n",
      "palindrome\n"
     ]
    }
   ],
   "source": [
    "str1=input()\n",
    "if str1[:]==str1[::-1] :\n",
    "    print(\"palindrome\")\n",
    "else :\n",
    "    print(\"not palindrome\")\n"
   ]
  },
  {
   "cell_type": "code",
   "execution_count": 3,
   "metadata": {},
   "outputs": [
    {
     "data": {
      "text/plain": [
       "set"
      ]
     },
     "execution_count": 3,
     "metadata": {},
     "output_type": "execute_result"
    }
   ],
   "source": [
    "setexample =set()\n",
    "type(setexample)"
   ]
  },
  {
   "cell_type": "code",
   "execution_count": 4,
   "metadata": {},
   "outputs": [
    {
     "data": {
      "text/plain": [
       "dict"
      ]
     },
     "execution_count": 4,
     "metadata": {},
     "output_type": "execute_result"
    }
   ],
   "source": [
    "dictionaryexample ={}\n",
    "type(dictionaryexample)"
   ]
  },
  {
   "cell_type": "markdown",
   "metadata": {},
   "source": [
    "# to check numpy is installed in conda or not"
   ]
  },
  {
   "cell_type": "code",
   "execution_count": 16,
   "metadata": {},
   "outputs": [
    {
     "data": {
      "text/plain": [
       "<module 'numpy.version' from 'C:\\\\Users\\\\birju\\\\anaconda3\\\\lib\\\\site-packages\\\\numpy\\\\version.py'>"
      ]
     },
     "execution_count": 16,
     "metadata": {},
     "output_type": "execute_result"
    }
   ],
   "source": [
    "import numpy as np\n",
    "np.version\n"
   ]
  },
  {
   "cell_type": "markdown",
   "metadata": {},
   "source": [
    "# numpy"
   ]
  },
  {
   "cell_type": "code",
   "execution_count": null,
   "metadata": {},
   "outputs": [],
   "source": [
    "import numpy as np"
   ]
  },
  {
   "cell_type": "markdown",
   "metadata": {},
   "source": [
    "# program to find the square root of number.\n"
   ]
  },
  {
   "cell_type": "code",
   "execution_count": 36,
   "metadata": {},
   "outputs": [
    {
     "name": "stdout",
     "output_type": "stream",
     "text": [
      "22\n",
      "484\n"
     ]
    }
   ],
   "source": [
    "dec =0.0001\n",
    "num=500\n",
    "intv=1\n",
    "i=0\n",
    "\n",
    "def squareroot(num) :\n",
    "    for i in range(1,num) :\n",
    "        if i*i >= num :\n",
    "            intv=(i-1)*(i-1)\n",
    "            i=i-1\n",
    "            \n",
    "            print(i)\n",
    "            print(intv)\n",
    "            break\n",
    "        else :\n",
    "            i=i+1\n",
    "            \n",
    "            \n",
    "    for j in range(i, num) :\n",
    "        intvalue=1\n",
    "        dec=0.0001\n",
    "        if (intvalue+dec)*(intvalue+dec)>=num :\n",
    "            rootvalue= intvalue+dec \n",
    "            print(rootvalue)\n",
    "        else :\n",
    "            dec= dec +0.0010\n",
    "            \n",
    "squareroot(num)"
   ]
  },
  {
   "cell_type": "markdown",
   "metadata": {},
   "source": [
    "# number is prime or not?"
   ]
  },
  {
   "cell_type": "code",
   "execution_count": 2,
   "metadata": {},
   "outputs": [
    {
     "name": "stdout",
     "output_type": "stream",
     "text": [
      "97\n",
      "prime 97\n"
     ]
    }
   ],
   "source": [
    "def isprime(num) :\n",
    "    \n",
    "    for i in range(2, num) :\n",
    "        if num%i==0 :\n",
    "            flag=False\n",
    "            break\n",
    "        else:\n",
    "            flag=True\n",
    "            \n",
    "    if flag== True :\n",
    "        print(\"prime\",num)\n",
    "        \n",
    "        \n",
    "number = int(input())\n",
    "isprime(number)\n"
   ]
  },
  {
   "cell_type": "markdown",
   "metadata": {},
   "source": [
    "# number is power of 2 or not using bit level"
   ]
  },
  {
   "cell_type": "code",
   "execution_count": 29,
   "metadata": {},
   "outputs": [
    {
     "name": "stdout",
     "output_type": "stream",
     "text": [
      "power of two\n"
     ]
    }
   ],
   "source": [
    "num1=16\n",
    "if (num1 & (num1-1) )== 0 :\n",
    "    print(\"power of two\")\n",
    "    \n",
    "else :\n",
    "    print(\"not\")\n",
    "    "
   ]
  },
  {
   "cell_type": "markdown",
   "metadata": {},
   "source": [
    "# Program to find square root of a number"
   ]
  },
  {
   "cell_type": "code",
   "execution_count": 34,
   "metadata": {},
   "outputs": [
    {
     "name": "stdout",
     "output_type": "stream",
     "text": [
      "77\n",
      "39.0\n",
      "1.9743589743589745\n",
      "39.0\n",
      "20.48717948717949\n",
      "3.7584480600750934\n",
      "20.48717948717949\n",
      "12.122813773627291\n",
      "6.35166071490024\n",
      "12.122813773627291\n",
      "9.237237244263765\n",
      "8.33582574138347\n",
      "9.237237244263765\n",
      "8.786531492823617\n",
      "8.763412509576687\n",
      "8.786531492823617\n",
      "8.774972001200151\n",
      "8.774956773590699\n",
      "8.774972001200151\n",
      "8.774964387395425\n",
      "8.774964387388819\n",
      "8.774964387395425\n",
      "8.77496438739212\n",
      "8.774964387392123\n",
      "root of 77 is 8.77496438739212\n"
     ]
    }
   ],
   "source": [
    "def squareRoot(n): \n",
    "    x = n; \n",
    "    y = 1; \n",
    "    while(x > y): \n",
    "        print(x)\n",
    "        x = (x + y) / 2; \n",
    "        print(x)\n",
    "        y = n / x;\n",
    "        print(y)\n",
    "    return x; \n",
    "  \n",
    "# Driver Code \n",
    "n = 77\n",
    "print(\"root of\", n, \"is\", squareRoot(n)); \n"
   ]
  },
  {
   "cell_type": "code",
   "execution_count": null,
   "metadata": {},
   "outputs": [],
   "source": []
  }
 ],
 "metadata": {
  "kernelspec": {
   "display_name": "Python 3",
   "language": "python",
   "name": "python3"
  },
  "language_info": {
   "codemirror_mode": {
    "name": "ipython",
    "version": 3
   },
   "file_extension": ".py",
   "mimetype": "text/x-python",
   "name": "python",
   "nbconvert_exporter": "python",
   "pygments_lexer": "ipython3",
   "version": "3.8.5"
  }
 },
 "nbformat": 4,
 "nbformat_minor": 4
}
