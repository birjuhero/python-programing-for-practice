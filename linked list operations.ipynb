{
 "cells": [
  {
   "cell_type": "markdown",
   "metadata": {},
   "source": [
    "# python code for implementation of list[linked list]"
   ]
  },
  {
   "cell_type": "code",
   "execution_count": 161,
   "metadata": {},
   "outputs": [],
   "source": [
    "class Node :\n",
    "    def __init__(self,initialval=None):#constructor\n",
    "        self.value=initialval\n",
    "        self.next=None\n",
    "        return\n",
    "    \n",
    "    def __str__(self):#constructor\n",
    "        selflist=[]\n",
    "        if self.value==None:\n",
    "            return(str(selflist))\n",
    "        temp=self\n",
    "        selflist.append(temp.value)\n",
    "        while temp.next!=None:\n",
    "            temp=temp.next\n",
    "            selflist.append(temp.value)\n",
    "        return(str(selflist))\n",
    "            \n",
    "    \n",
    "    def isempty(self):# return True or False weather the Node is empty or not\n",
    "        return (self.value==None)\n",
    "    \n",
    "    def appendr(self,v):# insert the value at the end recursively\n",
    "        if self.isempty():\n",
    "            self.value=v\n",
    "        elif self.next==None:\n",
    "             newnode=Node(v)\n",
    "             self.next=newnode\n",
    "        else :\n",
    "            self.next.appendr(v)\n",
    "        return()\n",
    "    \n",
    "    def appendi(self,v): #insert the value at the end iteratively\n",
    "        if self.isempty():\n",
    "            self.value=v\n",
    "            return()\n",
    "        temp=self\n",
    "        while temp.next!=None:\n",
    "            temp=temp.next\n",
    "        newnodei=Node(v)\n",
    "        temp.next=newnodei\n",
    "        return\n",
    "    \n",
    "    def deletei(self,v): #delete the value v iteratively\n",
    "        if self.isempty():\n",
    "            return()\n",
    "        if self.value==v:\n",
    "            if self.next==None:\n",
    "                self.value=None\n",
    "            else :\n",
    "                self.value=self.next.value\n",
    "                self.next=self.next.next\n",
    "            return()\n",
    "        temp=self\n",
    "        while temp.next!=None:\n",
    "            if temp.next.value==v:\n",
    "                temp.next=temp.next.next\n",
    "                return()\n",
    "            else:\n",
    "                temp=temp.next\n",
    "        return()\n",
    "    \n",
    "    \n",
    "    def deleter(self,v): #delete the value v recursively\n",
    "        if self.isempty():\n",
    "            return()\n",
    "        if self.value==v:\n",
    "            if self.next==None:\n",
    "                self.value=None\n",
    "            else :\n",
    "                self.value=self.next.value\n",
    "                self.next=self.next.next\n",
    "            return()\n",
    "        else:\n",
    "            if self.next!=None:\n",
    "                self.next.deleter(v)\n",
    "                if self.next.value==None:\n",
    "                    self.next=self.next.next\n",
    "        return()\n",
    "    \n",
    "    def insert(self,v):# insert at the beginning\n",
    "        if self.isempty():\n",
    "            self.value=v\n",
    "            return()\n",
    "        newnode=Node(v)\n",
    "        (self.value, newnode.value)=(newnode.value, self.value)\n",
    "        (self.next,newnode.next)=(newnode,self.next)\n",
    "        return()    \n",
    "    \n",
    "     \n",
    "            "
   ]
  },
  {
   "cell_type": "code",
   "execution_count": 168,
   "metadata": {},
   "outputs": [
    {
     "name": "stdout",
     "output_type": "stream",
     "text": [
      "['8', '8', '7', '78', '70', 3]\n",
      "[3, '8', '8', '7', '78', '70', 3]\n"
     ]
    }
   ],
   "source": [
    "a=Node(\"8\")\n",
    "\n",
    "a.appendi(\"8\")\n",
    "a.appendi(\"7\")\n",
    "a.appendi(\"78\")\n",
    "a.appendi(\"70\")\n",
    "a.appendr(3)\n",
    "print(a)\n",
    "a.insert(3)\n",
    "print(a)"
   ]
  },
  {
   "cell_type": "code",
   "execution_count": 16,
   "metadata": {},
   "outputs": [],
   "source": []
  },
  {
   "cell_type": "code",
   "execution_count": 129,
   "metadata": {},
   "outputs": [],
   "source": [
    "b=Node(3)\n",
    "b.appendr(4)\n",
    "b.appendi(3)"
   ]
  },
  {
   "cell_type": "code",
   "execution_count": 130,
   "metadata": {},
   "outputs": [
    {
     "name": "stdout",
     "output_type": "stream",
     "text": [
      "[3, 4, 3]\n"
     ]
    }
   ],
   "source": [
    "print(b)"
   ]
  },
  {
   "cell_type": "code",
   "execution_count": 133,
   "metadata": {},
   "outputs": [
    {
     "data": {
      "text/plain": [
       "()"
      ]
     },
     "execution_count": 133,
     "metadata": {},
     "output_type": "execute_result"
    }
   ],
   "source": [
    "b.deletei(3)"
   ]
  },
  {
   "cell_type": "code",
   "execution_count": 134,
   "metadata": {},
   "outputs": [
    {
     "name": "stdout",
     "output_type": "stream",
     "text": [
      "[4]\n"
     ]
    }
   ],
   "source": [
    "print(b)"
   ]
  },
  {
   "cell_type": "code",
   "execution_count": 88,
   "metadata": {},
   "outputs": [
    {
     "data": {
      "text/plain": [
       "True"
      ]
     },
     "execution_count": 88,
     "metadata": {},
     "output_type": "execute_result"
    }
   ],
   "source": [
    "a=Node()\n",
    "a.isempty()==True"
   ]
  },
  {
   "cell_type": "code",
   "execution_count": 87,
   "metadata": {},
   "outputs": [
    {
     "data": {
      "text/plain": [
       "False"
      ]
     },
     "execution_count": 87,
     "metadata": {},
     "output_type": "execute_result"
    }
   ],
   "source": [
    "b=Node(5)\n",
    "b.isempty()"
   ]
  },
  {
   "cell_type": "code",
   "execution_count": null,
   "metadata": {},
   "outputs": [],
   "source": [
    "a.appendr(2)"
   ]
  },
  {
   "cell_type": "code",
   "execution_count": null,
   "metadata": {},
   "outputs": [],
   "source": [
    "a.isempty()"
   ]
  },
  {
   "cell_type": "code",
   "execution_count": null,
   "metadata": {},
   "outputs": [],
   "source": [
    "c=Node()\n",
    "c.appendi(4)"
   ]
  },
  {
   "cell_type": "code",
   "execution_count": null,
   "metadata": {},
   "outputs": [],
   "source": []
  }
 ],
 "metadata": {
  "kernelspec": {
   "display_name": "Python 3",
   "language": "python",
   "name": "python3"
  },
  "language_info": {
   "codemirror_mode": {
    "name": "ipython",
    "version": 3
   },
   "file_extension": ".py",
   "mimetype": "text/x-python",
   "name": "python",
   "nbconvert_exporter": "python",
   "pygments_lexer": "ipython3",
   "version": "3.8.5"
  }
 },
 "nbformat": 4,
 "nbformat_minor": 4
}
